{
 "cells": [
  {
   "cell_type": "code",
   "execution_count": 6,
   "metadata": {},
   "outputs": [],
   "source": [
    "import copy\n",
    "import itertools as it\n",
    "import numpy as np\n",
    "import yaml\n",
    "import os\n",
    "\n",
    "def expand_config(dict_config):\n",
    "    keys, values = zip(*dict_config.items())\n",
    "    permutations_dicts = [dict(zip(keys, v)) for v in it.product(*values)]\n",
    "    return permutations_dicts"
   ]
  },
  {
   "cell_type": "code",
   "execution_count": 7,
   "metadata": {},
   "outputs": [],
   "source": [
    "def generate_train_str_config(config):\n",
    "    config_list = []\n",
    "    config_list.append('ignore_exceptions=False use_density_based_ue=True')\n",
    "    \n",
    "    config_list.append('batch_size={}'.format(config['batch_size']))\n",
    "    config_list.append('subsample_train_dataset={}'.format(config['subsample_train_dataset']))\n",
    "    config_list.append('subsample_background_train_dataset={}'.format(config['subsample_background_train_dataset']))\n",
    "    config_list.append('subsample_eval_dataset={}'.format(config['subsample_eval_dataset']))\n",
    "    config_list.append('model={}'.format(config['model']))\n",
    "    if (\"mistral\" in config['model'].lower()) :\n",
    "        config_list.append('+allow_newlines=False')\n",
    "    \n",
    "    return config_list"
   ]
  },
  {
   "cell_type": "code",
   "execution_count": 8,
   "metadata": {},
   "outputs": [],
   "source": [
    "def generate_bash(configs, cuda_devices, tasks, generate_func, filename=''):\n",
    "    full_config = 'cd ../../lm-polygraph'\n",
    "    j = 0\n",
    "    n_devices = len(cuda_devices)\n",
    "    for i, mc_configs in enumerate(configs):\n",
    "        for conf in expand_config(mc_configs):\n",
    "            for task_name in tasks:\n",
    "\n",
    "                base_arg = f'CUDA_VISIBLE_DEVICES={cuda_devices[j%n_devices]} HYDRA_CONFIG=../examples/configs/polygraph_eval_{task_name}.yaml python ./scripts/polygraph_eval device=cuda:0'\n",
    "\n",
    "                new_task = copy.deepcopy(base_arg)\n",
    "                args = ' '.join(generate_func[i](conf))\n",
    "                new_task += f' {args}'\n",
    "                if (j+1)%n_devices!=0: \n",
    "                    new_task += ' &'\n",
    "                else:\n",
    "                    new_task += '\\nwait'\n",
    "                full_config += '\\n' + new_task if len(full_config) else new_task\n",
    "                j+=1\n",
    "                \n",
    "    with open (f'./scripts/{filename}', 'w') as rsh:\n",
    "        rsh.write(full_config)"
   ]
  },
  {
   "cell_type": "code",
   "execution_count": 9,
   "metadata": {},
   "outputs": [],
   "source": [
    "tasks = ['coqa', 'sciq', 'triviaqa', 'mmlu']\n",
    "\n",
    "train_configs = {\n",
    "    'batch_size': [1],\n",
    "    'subsample_train_dataset': [5000],\n",
    "    'subsample_background_train_dataset': [2000],\n",
    "    'subsample_eval_dataset': [2000],\n",
    "    'model': ['lmsys/vicuna-7b-v1.5', 'alpindale/Mistral-7B-v0.2-hf', 'stabilityai/stablelm-2-1_6b', 'meta-llama/Llama-2-7b-chat-hf', 'stabilityai/stablelm-2-12b', 'lmsys/vicuna-13b-v1.5'],\n",
    "}\n",
    "    \n",
    "cuda_devices = [0,1,2,3,4,5,6,7]\n",
    "\n",
    "generate_bash([train_configs], cuda_devices, tasks, [generate_train_str_config], 'run_tmd_exps_p1.sh')"
   ]
  },
  {
   "cell_type": "code",
   "execution_count": 10,
   "metadata": {},
   "outputs": [],
   "source": [
    "tasks = ['gsm8k', 'xsum', 'wmt14_deen']\n",
    "\n",
    "train_configs = {\n",
    "    'batch_size': [1],\n",
    "    'subsample_train_dataset': [2000],\n",
    "    'subsample_background_train_dataset': [1000],\n",
    "    'subsample_eval_dataset': [1000],\n",
    "    'model': ['lmsys/vicuna-7b-v1.5', 'alpindale/Mistral-7B-v0.2-hf', 'stabilityai/stablelm-2-1_6b', 'stabilityai/stablelm-2-12b', 'lmsys/vicuna-13b-v1.5'],\n",
    "}\n",
    "    \n",
    "cuda_devices = [0,1,2,3,4,5,6,7]\n",
    "\n",
    "generate_bash([train_configs], cuda_devices, tasks, [generate_train_str_config], 'run_tmd_exps_p2.sh')"
   ]
  },
  {
   "cell_type": "code",
   "execution_count": null,
   "metadata": {},
   "outputs": [],
   "source": []
  }
 ],
 "metadata": {
  "kernelspec": {
   "display_name": "Python [conda env:.mlspace-lm-exps]",
   "language": "python",
   "name": "conda-env-.mlspace-lm-exps-py"
  },
  "language_info": {
   "codemirror_mode": {
    "name": "ipython",
    "version": 3
   },
   "file_extension": ".py",
   "mimetype": "text/x-python",
   "name": "python",
   "nbconvert_exporter": "python",
   "pygments_lexer": "ipython3",
   "version": "3.10.14"
  }
 },
 "nbformat": 4,
 "nbformat_minor": 4
}
